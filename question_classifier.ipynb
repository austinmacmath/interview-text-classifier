{
 "cells": [
  {
   "cell_type": "markdown",
   "metadata": {},
   "source": [
    "# Interview Text Classification"
   ]
  },
  {
   "cell_type": "markdown",
   "metadata": {},
   "source": [
    "## Imports"
   ]
  },
  {
   "cell_type": "code",
   "execution_count": 226,
   "metadata": {},
   "outputs": [],
   "source": [
    "import fasttext\n",
    "import pandas as pd\n",
    "import numpy as np\n",
    "# from sklearn.model_selection import train_test_split"
   ]
  },
  {
   "cell_type": "markdown",
   "metadata": {},
   "source": [
    "## Pre-Processing Data\n",
    "Prepend \"\\_\\_label\\_\\_\" to the __Choice__ column to be read by the supervised learner. Split the data into 75% training and 25% validation subset the data to include only __Choice__ and __Question__. Save the subsetted data to corresponding CSV files."
   ]
  },
  {
   "cell_type": "code",
   "execution_count": 236,
   "metadata": {},
   "outputs": [],
   "source": [
    "textData = pd.read_csv(\"questionset.csv\")\n",
    "textData[\"Question\"].replace(\"\", np.nan, inplace=True)\n",
    "textData[\"Choice\"] = textData[\"Choice\"].fillna(\"__label__0\")\n",
    "textData.loc[textData.Choice == 1, \"Choice\"] = \"__label__1\"\n",
    "textData.dropna(subset=[\"Question\"], inplace=True)\n",
    "index = np.random.rand(len(textData)) < .75\n",
    "\n",
    "train = textData[index][[\"Choice\", \"Question\"]]\n",
    "test = textData[~index][[\"Choice\", \"Question\"]]\n",
    "train.to_csv(\"question_train.csv\")\n",
    "test.to_csv(\"question_test.csv\")"
   ]
  },
  {
   "cell_type": "markdown",
   "metadata": {},
   "source": [
    "Remove the commas, indicies, quotation marks from CSV files and save to txt file."
   ]
  },
  {
   "cell_type": "raw",
   "metadata": {},
   "source": [
    "$ tr ',' ' ' < question_test.csv > question_test.txt\n",
    "$ tr ',' ' ' < question_train.csv > question_train.txt\n",
    "\n",
    "$ cut -f 2- -d ' ' question_test.txt > question_test2.txt\n",
    "$ cut -f 2- -d ' ' question_train.txt > question_train2.txt\n",
    "\n",
    "$ tr -d '\"' < question_train2.txt > question_train3.txt\n",
    "$ tr -d '\"' < question_test2.txt > question_test3.txt"
   ]
  },
  {
   "cell_type": "markdown",
   "metadata": {},
   "source": [
    "## Training\n",
    "Train the model using the processed training set. "
   ]
  },
  {
   "cell_type": "code",
   "execution_count": 259,
   "metadata": {},
   "outputs": [],
   "source": [
    "model = fasttext.train_supervised(input = \"question_train3.txt\")"
   ]
  },
  {
   "cell_type": "markdown",
   "metadata": {},
   "source": [
    "### Sample Prediction"
   ]
  },
  {
   "cell_type": "code",
   "execution_count": 260,
   "metadata": {},
   "outputs": [
    {
     "data": {
      "text/plain": [
       "(('__label__1',), array([0.58277905]))"
      ]
     },
     "execution_count": 260,
     "metadata": {},
     "output_type": "execute_result"
    }
   ],
   "source": [
    "text = \"If you were trying to sell reusable silicone straws but the whole product listing is comprised about how plastic straws are bad for the environment  how would an text classifier detect that the item is silicon straws instead of plastic?\"\n",
    "model.predict(text)"
   ]
  },
  {
   "cell_type": "code",
   "execution_count": 263,
   "metadata": {},
   "outputs": [
    {
     "data": {
      "text/plain": [
       "(604, 0.8956953642384106, 0.8956953642384106)"
      ]
     },
     "execution_count": 263,
     "metadata": {},
     "output_type": "execute_result"
    }
   ],
   "source": [
    "model.test(\"question_test3.txt\")"
   ]
  },
  {
   "cell_type": "code",
   "execution_count": 265,
   "metadata": {},
   "outputs": [
    {
     "data": {
      "text/plain": [
       "['__label__0', '__label__1']"
      ]
     },
     "execution_count": 265,
     "metadata": {},
     "output_type": "execute_result"
    }
   ],
   "source": [
    "model.labels"
   ]
  },
  {
   "cell_type": "code",
   "execution_count": null,
   "metadata": {},
   "outputs": [],
   "source": []
  }
 ],
 "metadata": {
  "kernelspec": {
   "display_name": "Python 3",
   "language": "python",
   "name": "python3"
  },
  "language_info": {
   "codemirror_mode": {
    "name": "ipython",
    "version": 3
   },
   "file_extension": ".py",
   "mimetype": "text/x-python",
   "name": "python",
   "nbconvert_exporter": "python",
   "pygments_lexer": "ipython3",
   "version": "3.7.4"
  }
 },
 "nbformat": 4,
 "nbformat_minor": 4
}
