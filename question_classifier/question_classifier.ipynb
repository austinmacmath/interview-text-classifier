{
 "cells": [
  {
   "cell_type": "markdown",
   "metadata": {},
   "source": [
    "# Interview Text Classification (NLP)"
   ]
  },
  {
   "cell_type": "markdown",
   "metadata": {},
   "source": [
    "## Imports"
   ]
  },
  {
   "cell_type": "code",
   "execution_count": 62,
   "metadata": {},
   "outputs": [],
   "source": [
    "import fasttext\n",
    "import pandas as pd\n",
    "import numpy as np\n",
    "# from sklearn.model_selection import train_test_split"
   ]
  },
  {
   "cell_type": "markdown",
   "metadata": {},
   "source": [
    "## Pre-processing Data\n",
    "Impute 0 where __Choice__ is NA. Prepend \"\\_\\_label\\_\\_\" to the __Choice__ column to be read by the supervised learner. Random sample 300 observations of each class. Split the data into 75% training and 25% validation. Subset the data to include only __Choice__ and __Question__. Save the subsetted data to corresponding CSV files."
   ]
  },
  {
   "cell_type": "code",
   "execution_count": 63,
   "metadata": {},
   "outputs": [],
   "source": [
    "textData = pd.read_csv(\"questionset2.csv\")\n",
    "textData[\"Question\"].replace(\"\", np.nan, inplace=True)\n",
    "textData[\"Choice\"] = textData[\"Choice\"].fillna(\"__label__0\")\n",
    "textData.loc[textData.Choice == 1, \"Choice\"] = \"__label__1\"\n",
    "textData.dropna(subset=[\"Question\"], inplace=True)\n",
    "\n",
    "label0 = textData[textData[\"Choice\"] == \"__label__0\"].sample(n = 300, random_state = 1, replace = False)\n",
    "label1 = textData[textData[\"Choice\"] == \"__label__1\"].sample(n = 300, random_state = 2, replace = False)\n",
    "\n",
    "sampled = pd.concat([label0, label1])\n",
    "\n",
    "index = np.random.rand(len(sampled)) < .75\n",
    "\n",
    "train = sampled[index][[\"Choice\", \"Question\"]]\n",
    "test = sampled[~index][[\"Choice\", \"Question\"]]\n",
    "\n",
    "train.to_csv(\"question_train.txt\")\n",
    "test.to_csv(\"question_test.txt\")"
   ]
  },
  {
   "cell_type": "markdown",
   "metadata": {},
   "source": [
    "Remove the commas, indicies, quotation marks from CSV files and save to txt file."
   ]
  },
  {
   "cell_type": "code",
   "execution_count": 64,
   "metadata": {},
   "outputs": [],
   "source": [
    "%%bash\n",
    "tr ',' ' ' < question_train.txt > qt.txt && mv qt.txt question_train.txt\n",
    "cut -f 2- -d ' ' question_train.txt > qt.txt && mv qt.txt question_train.txt\n",
    "tr -d '\"' < question_train.txt > qt.txt && mv qt.txt question_train.txt\n",
    "\n",
    "tr ',' ' ' < question_test.txt > qt.txt && mv qt.txt question_test.txt\n",
    "cut -f 2- -d ' ' question_test.txt > qt.txt && mv qt.txt question_test.txt\n",
    "tr -d '\"' < question_test.txt > qt.txt && mv qt.txt question_test.txt"
   ]
  },
  {
   "cell_type": "markdown",
   "metadata": {},
   "source": [
    "## Training\n",
    "Train the model using the processed training set. "
   ]
  },
  {
   "cell_type": "code",
   "execution_count": 65,
   "metadata": {},
   "outputs": [],
   "source": [
    "initial_model = fasttext.train_supervised(input = \"question_train.txt\")"
   ]
  },
  {
   "cell_type": "markdown",
   "metadata": {},
   "source": [
    "#### Sample Prediction"
   ]
  },
  {
   "cell_type": "code",
   "execution_count": 66,
   "metadata": {},
   "outputs": [
    {
     "data": {
      "text/plain": [
       "(('__label__0',), array([0.50216097]))"
      ]
     },
     "execution_count": 66,
     "metadata": {},
     "output_type": "execute_result"
    }
   ],
   "source": [
    "text = \"If there are 10 seats on a plane  and you are the 10th person to enter the plane  what are the chances you sit in the correct seat?\"\n",
    "initial_model.predict(text)"
   ]
  },
  {
   "cell_type": "markdown",
   "metadata": {},
   "source": [
    "Classified as 1."
   ]
  },
  {
   "cell_type": "markdown",
   "metadata": {},
   "source": [
    "#### Initial Model Evaluation"
   ]
  },
  {
   "cell_type": "code",
   "execution_count": 67,
   "metadata": {},
   "outputs": [
    {
     "data": {
      "text/plain": [
       "(159, 0.5786163522012578, 0.5786163522012578)"
      ]
     },
     "execution_count": 67,
     "metadata": {},
     "output_type": "execute_result"
    }
   ],
   "source": [
    "initial_model.test(\"question_test.txt\")"
   ]
  },
  {
   "cell_type": "markdown",
   "metadata": {},
   "source": [
    "(Samples: 159, Precision: 0.534, Recall: 0.534)"
   ]
  },
  {
   "cell_type": "markdown",
   "metadata": {},
   "source": [
    "## Parameter Tuning"
   ]
  },
  {
   "cell_type": "code",
   "execution_count": 68,
   "metadata": {},
   "outputs": [],
   "source": [
    "model = fasttext.train_supervised(input = \"question_train.txt\", autotuneValidationFile = \"question_test.txt\")"
   ]
  },
  {
   "cell_type": "markdown",
   "metadata": {},
   "source": [
    "#### Sample Prediction"
   ]
  },
  {
   "cell_type": "code",
   "execution_count": 69,
   "metadata": {},
   "outputs": [
    {
     "data": {
      "text/plain": [
       "(('__label__1',), array([0.9995327]))"
      ]
     },
     "execution_count": 69,
     "metadata": {},
     "output_type": "execute_result"
    }
   ],
   "source": [
    "text = \"If there are 10 seats on a plane  and you are the 10th person to enter the plane  what are the chances you sit in the correct seat?\"\n",
    "model.predict(text)"
   ]
  },
  {
   "cell_type": "markdown",
   "metadata": {},
   "source": [
    "#### Tuned Model Evaluation"
   ]
  },
  {
   "cell_type": "code",
   "execution_count": 71,
   "metadata": {
    "scrolled": true
   },
   "outputs": [
    {
     "data": {
      "text/plain": [
       "(159, 0.8679245283018868, 0.8679245283018868)"
      ]
     },
     "execution_count": 71,
     "metadata": {},
     "output_type": "execute_result"
    }
   ],
   "source": [
    "model.test(\"question_test.txt\")"
   ]
  },
  {
   "cell_type": "markdown",
   "metadata": {},
   "source": [
    "(Samples: 159, Precision: 0.867, Recall: 0.867)"
   ]
  }
 ],
 "metadata": {
  "kernelspec": {
   "display_name": "Python 3",
   "language": "python",
   "name": "python3"
  },
  "language_info": {
   "codemirror_mode": {
    "name": "ipython",
    "version": 3
   },
   "file_extension": ".py",
   "mimetype": "text/x-python",
   "name": "python",
   "nbconvert_exporter": "python",
   "pygments_lexer": "ipython3",
   "version": "3.7.6"
  }
 },
 "nbformat": 4,
 "nbformat_minor": 4
}
